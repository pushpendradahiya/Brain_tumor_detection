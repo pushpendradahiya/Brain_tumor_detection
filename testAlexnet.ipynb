{
 "cells": [
  {
   "cell_type": "code",
   "execution_count": 7,
   "metadata": {},
   "outputs": [],
   "source": [
    "import SimpleITK as sitk\n",
    "import os\n",
    "import numpy as np\n",
    "import matplotlib.pyplot as plt\n",
    "import nibabel as nib\n",
    "from skimage.transform import resize\n",
    "from skimage import io\n",
    "from sklearn.utils import shuffle"
   ]
  },
  {
   "cell_type": "code",
   "execution_count": 2,
   "metadata": {},
   "outputs": [
    {
     "name": "stderr",
     "output_type": "stream",
     "text": [
      "Using TensorFlow backend.\n"
     ]
    }
   ],
   "source": [
    "import keras\n",
    "from keras.models import Sequential\n",
    "from keras.layers import Dense,Activation,Dropout,Flatten,Conv2D,MaxPooling2D\n",
    "from keras.layers.normalization import BatchNormalization\n",
    "from keras.callbacks import ModelCheckpoint, LearningRateScheduler\n",
    "import tensorflow as tf"
   ]
  },
  {
   "cell_type": "code",
   "execution_count": 14,
   "metadata": {},
   "outputs": [],
   "source": [
    "def find_images(path_dir, path_nor, path_t):\n",
    "    num=1\n",
    "    X_train=np.zeros(((274+109)*num+942,240,240),dtype=np.uint16)\n",
    "    Y_train=np.zeros(((274+109)*num+942,2),dtype=np.uint16)\n",
    "    j=0\n",
    "    for item in os.listdir(path_dir):\n",
    "        item=os.path.join(path_dir,item)\n",
    "        for item2 in os.listdir(item):\n",
    "            im ={'T1':None,'gt':None}\n",
    "            item2=os.path.join(item,item2)\n",
    "            for item3 in os.listdir(item2):\n",
    "                item3=os.path.join(item2,item3)\n",
    "                for item4 in os.listdir(item3):\n",
    "                    item5=os.path.join(item3,item4)\n",
    "                    if os.path.isfile(item5) and item5.endswith('.mha'):\n",
    "                        itk_image = sitk.ReadImage(item5)\n",
    "                        nd_image = sitk.GetArrayFromImage(itk_image)\n",
    "                        if 'more' in item5 or 'OT' in item5:\n",
    "                            im['gt']=nd_image\n",
    "                        elif 'T1' in item5 and 'T1c' not in item5:\n",
    "                            im['T1']=nd_image\n",
    "            for i in range(70,70+num):\n",
    "                if not sum(sum(im['gt'][i,:,:])): #sum=0 normal brains\n",
    "                    Y_train[j][0]=1\n",
    "                else:\n",
    "                    Y_train[j][1]=1\n",
    "                X_train[j]=im['T1'][i,:,:]\n",
    "                j+=1\n",
    "    for item in os.listdir(path_nor):\n",
    "        item2 = os.path.join(path_nor,item)\n",
    "        img = nib.load(item2)\n",
    "        data=img.get_fdata()\n",
    "        for i in range(90,90+num):\n",
    "            Y_train[j][0]=1\n",
    "            X_train[j]=resize(data[50:210,i,:],(240,240))\n",
    "            j+=1\n",
    "    for item in os.listdir(path_t):\n",
    "        item2=os.path.join(path_t,item)\n",
    "        for item3 in os.listdir(item2):\n",
    "            item5=os.path.join(item2,item3)\n",
    "            if os.path.isfile(item5) and item5.endswith('.jpg'):\n",
    "                image = io.imread(item5,as_gray=True)\n",
    "                image = resize(image,(240,240))\n",
    "                X_train[j]=image\n",
    "                if item == 'abnormalsJPG':\n",
    "                    Y_train[j][1]=1\n",
    "                elif item == 'normalsJPG':\n",
    "                    Y_train[j][0]=1\n",
    "                j+=1\n",
    "    return X_train,Y_train"
   ]
  },
  {
   "cell_type": "code",
   "execution_count": 11,
   "metadata": {},
   "outputs": [
    {
     "name": "stderr",
     "output_type": "stream",
     "text": [
      "/home/pushpendra/anaconda3/lib/python3.6/site-packages/skimage/transform/_warps.py:84: UserWarning: The default mode, 'constant', will be changed to 'reflect' in skimage 0.15.\n",
      "  warn(\"The default mode, 'constant', will be changed to 'reflect' in \"\n"
     ]
    }
   ],
   "source": [
    "path_dir=\"/media/pushpendra/DATA/4th sem/AML/assignment1/BRATS2015_Training\"\n",
    "path_nor=\"/media/pushpendra/DATA/4th sem/AML/assignment1/nii\"\n",
    "path_t=\"/media/pushpendra/DATA/4th sem/AML/assignment1/test_set\"\n",
    "X_train,Y_train=find_images(path_dir, path_nor, path_t)"
   ]
  },
  {
   "cell_type": "code",
   "execution_count": 15,
   "metadata": {},
   "outputs": [],
   "source": [
    "shape=X_train.shape\n",
    "X_train=X_train.reshape(shape[0],shape[1],shape[2],1)\n",
    "X_train.shape"
   ]
  },
  {
   "cell_type": "code",
   "execution_count": 8,
   "metadata": {},
   "outputs": [
    {
     "name": "stdout",
     "output_type": "stream",
     "text": [
      "abnormalsJPG\n",
      "362\n",
      "0\n",
      "normalsJPG\n",
      "362\n",
      "480\n"
     ]
    },
    {
     "data": {
      "text/plain": [
       "(842, 240, 240, 1)"
      ]
     },
     "execution_count": 8,
     "metadata": {},
     "output_type": "execute_result"
    }
   ],
   "source": [
    "path_t=\"/media/pushpendra/DATA/4th sem/AML/assignment1/normalsVsAbnormalsV1\"\n",
    "X_train,Y_train=find_test_images(path_t,842)\n",
    "shape=X_train.shape\n",
    "maxi = np.amax(X_train)\n",
    "X_train = X_train/maxi\n",
    "X_train=X_train.reshape(shape[0],shape[1],shape[2],1)\n",
    "X_train.shape"
   ]
  },
  {
   "cell_type": "code",
   "execution_count": 17,
   "metadata": {},
   "outputs": [
    {
     "name": "stdout",
     "output_type": "stream",
     "text": [
      "_________________________________________________________________\n",
      "Layer (type)                 Output Shape              Param #   \n",
      "=================================================================\n",
      "conv2d_6 (Conv2D)            (None, 58, 58, 96)        11712     \n",
      "_________________________________________________________________\n",
      "activation_9 (Activation)    (None, 58, 58, 96)        0         \n",
      "_________________________________________________________________\n",
      "max_pooling2d_4 (MaxPooling2 (None, 29, 29, 96)        0         \n",
      "_________________________________________________________________\n",
      "batch_normalization_8 (Batch (None, 29, 29, 96)        384       \n",
      "_________________________________________________________________\n",
      "conv2d_7 (Conv2D)            (None, 19, 19, 256)       2973952   \n",
      "_________________________________________________________________\n",
      "activation_10 (Activation)   (None, 19, 19, 256)       0         \n",
      "_________________________________________________________________\n",
      "max_pooling2d_5 (MaxPooling2 (None, 9, 9, 256)         0         \n",
      "_________________________________________________________________\n",
      "batch_normalization_9 (Batch (None, 9, 9, 256)         1024      \n",
      "_________________________________________________________________\n",
      "conv2d_8 (Conv2D)            (None, 7, 7, 384)         885120    \n",
      "_________________________________________________________________\n",
      "activation_11 (Activation)   (None, 7, 7, 384)         0         \n",
      "_________________________________________________________________\n",
      "batch_normalization_10 (Batc (None, 7, 7, 384)         1536      \n",
      "_________________________________________________________________\n",
      "conv2d_9 (Conv2D)            (None, 5, 5, 384)         1327488   \n",
      "_________________________________________________________________\n",
      "activation_12 (Activation)   (None, 5, 5, 384)         0         \n",
      "_________________________________________________________________\n",
      "batch_normalization_11 (Batc (None, 5, 5, 384)         1536      \n",
      "_________________________________________________________________\n",
      "conv2d_10 (Conv2D)           (None, 3, 3, 256)         884992    \n",
      "_________________________________________________________________\n",
      "activation_13 (Activation)   (None, 3, 3, 256)         0         \n",
      "_________________________________________________________________\n",
      "max_pooling2d_6 (MaxPooling2 (None, 1, 1, 256)         0         \n",
      "_________________________________________________________________\n",
      "batch_normalization_12 (Batc (None, 1, 1, 256)         1024      \n",
      "_________________________________________________________________\n",
      "flatten_2 (Flatten)          (None, 256)               0         \n",
      "_________________________________________________________________\n",
      "dense_4 (Dense)              (None, 4096)              1052672   \n",
      "_________________________________________________________________\n",
      "activation_14 (Activation)   (None, 4096)              0         \n",
      "_________________________________________________________________\n",
      "dropout_3 (Dropout)          (None, 4096)              0         \n",
      "_________________________________________________________________\n",
      "batch_normalization_13 (Batc (None, 4096)              16384     \n",
      "_________________________________________________________________\n",
      "dense_5 (Dense)              (None, 4096)              16781312  \n",
      "_________________________________________________________________\n",
      "activation_15 (Activation)   (None, 4096)              0         \n",
      "_________________________________________________________________\n",
      "dropout_4 (Dropout)          (None, 4096)              0         \n",
      "_________________________________________________________________\n",
      "batch_normalization_14 (Batc (None, 4096)              16384     \n",
      "_________________________________________________________________\n",
      "dense_6 (Dense)              (None, 2)                 8194      \n",
      "_________________________________________________________________\n",
      "activation_16 (Activation)   (None, 2)                 0         \n",
      "=================================================================\n",
      "Total params: 23,963,714\n",
      "Trainable params: 23,944,578\n",
      "Non-trainable params: 19,136\n",
      "_________________________________________________________________\n"
     ]
    }
   ],
   "source": [
    "np.random.seed(1000)\n",
    "model=Sequential()\n",
    "\n",
    "model.add(Conv2D(filters=96, input_shape=(240,240,1), kernel_size=(11,11), strides=(4,4), padding='valid'))\n",
    "model.add(Activation('relu'))\n",
    "model.add(MaxPooling2D(pool_size=(2,2),strides=(2,2),padding='valid'))\n",
    "model.add(BatchNormalization())\n",
    "\n",
    "model.add(Conv2D(filters=256,kernel_size=(11,11),strides=(1,1),padding='valid'))\n",
    "model.add(Activation('relu'))\n",
    "model.add(MaxPooling2D(pool_size=(2,2),strides=(2,2),padding='valid'))\n",
    "model.add(BatchNormalization())\n",
    "\n",
    "model.add(Conv2D(filters=384,kernel_size=(3,3),strides=(1,1),padding='valid'))\n",
    "model.add(Activation('relu'))\n",
    "model.add(BatchNormalization())\n",
    "\n",
    "model.add(Conv2D(filters=384,kernel_size=(3,3),strides=(1,1),padding='valid'))\n",
    "model.add(Activation('relu'))\n",
    "model.add(BatchNormalization())\n",
    "\n",
    "model.add(Conv2D(filters=256,kernel_size=(3,3),strides=(1,1),padding='valid'))\n",
    "model.add(Activation('relu'))\n",
    "model.add(MaxPooling2D(pool_size=(2,2),strides=(2,2),padding='valid'))\n",
    "model.add(BatchNormalization())\n",
    "\n",
    "model.add(Flatten())\n",
    "model.add(Dense(4096))\n",
    "model.add(Activation('relu'))\n",
    "model.add(Dropout(0.4))\n",
    "model.add(BatchNormalization())\n",
    "\n",
    "model.add(Dense(4096))\n",
    "model.add(Activation('relu'))\n",
    "model.add(Dropout(0.4))\n",
    "model.add(BatchNormalization())\n",
    "\n",
    "model.add(Dense(2))\n",
    "model.add(Activation(tf.nn.softmax))\n",
    "\n",
    "model.summary()\n",
    "\n",
    "model.compile(loss='categorical_crossentropy',optimizer='adam',metrics=['accuracy'])"
   ]
  },
  {
   "cell_type": "code",
   "execution_count": 9,
   "metadata": {},
   "outputs": [
    {
     "name": "stdout",
     "output_type": "stream",
     "text": [
      "Train on 673 samples, validate on 169 samples\n",
      "Epoch 1/50\n",
      "673/673 [==============================] - 93s 138ms/step - loss: 2.5452 - acc: 0.7935 - val_loss: 3.8225 - val_acc: 0.7219\n",
      "\n",
      "Epoch 00001: loss improved from inf to 2.54516, saving model to Alexnet_brat.hdf5\n",
      "Epoch 2/50\n",
      "673/673 [==============================] - 84s 125ms/step - loss: 0.7464 - acc: 0.8410 - val_loss: 1.6696 - val_acc: 0.7929\n",
      "\n",
      "Epoch 00002: loss improved from 2.54516 to 0.74640, saving model to Alexnet_brat.hdf5\n",
      "Epoch 3/50\n",
      "673/673 [==============================] - 81s 121ms/step - loss: 0.3556 - acc: 0.8856 - val_loss: 1.0293 - val_acc: 0.8166\n",
      "\n",
      "Epoch 00003: loss improved from 0.74640 to 0.35560, saving model to Alexnet_brat.hdf5\n",
      "Epoch 4/50\n",
      "673/673 [==============================] - 85s 126ms/step - loss: 0.2074 - acc: 0.9346 - val_loss: 2.0647 - val_acc: 0.8225\n",
      "\n",
      "Epoch 00004: loss improved from 0.35560 to 0.20741, saving model to Alexnet_brat.hdf5\n",
      "Epoch 5/50\n",
      "673/673 [==============================] - 82s 122ms/step - loss: 0.1733 - acc: 0.9510 - val_loss: 0.4441 - val_acc: 0.9231\n",
      "\n",
      "Epoch 00005: loss improved from 0.20741 to 0.17325, saving model to Alexnet_brat.hdf5\n",
      "Epoch 6/50\n",
      "673/673 [==============================] - 82s 121ms/step - loss: 0.1410 - acc: 0.9554 - val_loss: 1.3941 - val_acc: 0.8284\n",
      "\n",
      "Epoch 00006: loss improved from 0.17325 to 0.14103, saving model to Alexnet_brat.hdf5\n",
      "Epoch 7/50\n"
     ]
    },
    {
     "ename": "KeyboardInterrupt",
     "evalue": "",
     "output_type": "error",
     "traceback": [
      "\u001b[0;31m---------------------------------------------------------------------------\u001b[0m",
      "\u001b[0;31mKeyboardInterrupt\u001b[0m                         Traceback (most recent call last)",
      "\u001b[0;32m<ipython-input-9-02e1e5dac0d2>\u001b[0m in \u001b[0;36m<module>\u001b[0;34m()\u001b[0m\n\u001b[1;32m      3\u001b[0m \u001b[0mX_train\u001b[0m\u001b[0;34m,\u001b[0m \u001b[0mY_train\u001b[0m \u001b[0;34m=\u001b[0m \u001b[0mshuffle\u001b[0m\u001b[0;34m(\u001b[0m\u001b[0mX_train\u001b[0m\u001b[0;34m,\u001b[0m \u001b[0mY_train\u001b[0m\u001b[0;34m)\u001b[0m\u001b[0;34m\u001b[0m\u001b[0m\n\u001b[1;32m      4\u001b[0m \u001b[0mmodel_checkpoint\u001b[0m \u001b[0;34m=\u001b[0m \u001b[0mModelCheckpoint\u001b[0m\u001b[0;34m(\u001b[0m\u001b[0;34m'Alexnet_brat.hdf5'\u001b[0m\u001b[0;34m,\u001b[0m \u001b[0mmonitor\u001b[0m\u001b[0;34m=\u001b[0m\u001b[0;34m'loss'\u001b[0m\u001b[0;34m,\u001b[0m\u001b[0mverbose\u001b[0m\u001b[0;34m=\u001b[0m\u001b[0;36m1\u001b[0m\u001b[0;34m,\u001b[0m \u001b[0msave_best_only\u001b[0m\u001b[0;34m=\u001b[0m\u001b[0;32mTrue\u001b[0m\u001b[0;34m)\u001b[0m\u001b[0;34m\u001b[0m\u001b[0m\n\u001b[0;32m----> 5\u001b[0;31m \u001b[0mmodel\u001b[0m\u001b[0;34m.\u001b[0m\u001b[0mfit\u001b[0m\u001b[0;34m(\u001b[0m\u001b[0mX_train\u001b[0m\u001b[0;34m,\u001b[0m\u001b[0mY_train\u001b[0m\u001b[0;34m,\u001b[0m\u001b[0mbatch_size\u001b[0m\u001b[0;34m=\u001b[0m\u001b[0;36m32\u001b[0m\u001b[0;34m,\u001b[0m\u001b[0mepochs\u001b[0m\u001b[0;34m=\u001b[0m\u001b[0;36m50\u001b[0m\u001b[0;34m,\u001b[0m\u001b[0mverbose\u001b[0m\u001b[0;34m=\u001b[0m\u001b[0;36m1\u001b[0m\u001b[0;34m,\u001b[0m\u001b[0mvalidation_split\u001b[0m\u001b[0;34m=\u001b[0m\u001b[0;36m0.2\u001b[0m\u001b[0;34m,\u001b[0m\u001b[0mshuffle\u001b[0m\u001b[0;34m=\u001b[0m\u001b[0;32mTrue\u001b[0m\u001b[0;34m,\u001b[0m \u001b[0mcallbacks\u001b[0m\u001b[0;34m=\u001b[0m\u001b[0;34m[\u001b[0m\u001b[0mmodel_checkpoint\u001b[0m\u001b[0;34m]\u001b[0m\u001b[0;34m)\u001b[0m\u001b[0;34m\u001b[0m\u001b[0m\n\u001b[0m",
      "\u001b[0;32m~/anaconda3/lib/python3.6/site-packages/keras/engine/training.py\u001b[0m in \u001b[0;36mfit\u001b[0;34m(self, x, y, batch_size, epochs, verbose, callbacks, validation_split, validation_data, shuffle, class_weight, sample_weight, initial_epoch, steps_per_epoch, validation_steps, **kwargs)\u001b[0m\n\u001b[1;32m   1037\u001b[0m                                         \u001b[0minitial_epoch\u001b[0m\u001b[0;34m=\u001b[0m\u001b[0minitial_epoch\u001b[0m\u001b[0;34m,\u001b[0m\u001b[0;34m\u001b[0m\u001b[0m\n\u001b[1;32m   1038\u001b[0m                                         \u001b[0msteps_per_epoch\u001b[0m\u001b[0;34m=\u001b[0m\u001b[0msteps_per_epoch\u001b[0m\u001b[0;34m,\u001b[0m\u001b[0;34m\u001b[0m\u001b[0m\n\u001b[0;32m-> 1039\u001b[0;31m                                         validation_steps=validation_steps)\n\u001b[0m\u001b[1;32m   1040\u001b[0m \u001b[0;34m\u001b[0m\u001b[0m\n\u001b[1;32m   1041\u001b[0m     def evaluate(self, x=None, y=None,\n",
      "\u001b[0;32m~/anaconda3/lib/python3.6/site-packages/keras/engine/training_arrays.py\u001b[0m in \u001b[0;36mfit_loop\u001b[0;34m(model, f, ins, out_labels, batch_size, epochs, verbose, callbacks, val_f, val_ins, shuffle, callback_metrics, initial_epoch, steps_per_epoch, validation_steps)\u001b[0m\n\u001b[1;32m    197\u001b[0m                     \u001b[0mins_batch\u001b[0m\u001b[0;34m[\u001b[0m\u001b[0mi\u001b[0m\u001b[0;34m]\u001b[0m \u001b[0;34m=\u001b[0m \u001b[0mins_batch\u001b[0m\u001b[0;34m[\u001b[0m\u001b[0mi\u001b[0m\u001b[0;34m]\u001b[0m\u001b[0;34m.\u001b[0m\u001b[0mtoarray\u001b[0m\u001b[0;34m(\u001b[0m\u001b[0;34m)\u001b[0m\u001b[0;34m\u001b[0m\u001b[0m\n\u001b[1;32m    198\u001b[0m \u001b[0;34m\u001b[0m\u001b[0m\n\u001b[0;32m--> 199\u001b[0;31m                 \u001b[0mouts\u001b[0m \u001b[0;34m=\u001b[0m \u001b[0mf\u001b[0m\u001b[0;34m(\u001b[0m\u001b[0mins_batch\u001b[0m\u001b[0;34m)\u001b[0m\u001b[0;34m\u001b[0m\u001b[0m\n\u001b[0m\u001b[1;32m    200\u001b[0m                 \u001b[0mouts\u001b[0m \u001b[0;34m=\u001b[0m \u001b[0mto_list\u001b[0m\u001b[0;34m(\u001b[0m\u001b[0mouts\u001b[0m\u001b[0;34m)\u001b[0m\u001b[0;34m\u001b[0m\u001b[0m\n\u001b[1;32m    201\u001b[0m                 \u001b[0;32mfor\u001b[0m \u001b[0ml\u001b[0m\u001b[0;34m,\u001b[0m \u001b[0mo\u001b[0m \u001b[0;32min\u001b[0m \u001b[0mzip\u001b[0m\u001b[0;34m(\u001b[0m\u001b[0mout_labels\u001b[0m\u001b[0;34m,\u001b[0m \u001b[0mouts\u001b[0m\u001b[0;34m)\u001b[0m\u001b[0;34m:\u001b[0m\u001b[0;34m\u001b[0m\u001b[0m\n",
      "\u001b[0;32m~/anaconda3/lib/python3.6/site-packages/keras/backend/tensorflow_backend.py\u001b[0m in \u001b[0;36m__call__\u001b[0;34m(self, inputs)\u001b[0m\n\u001b[1;32m   2713\u001b[0m                 \u001b[0;32mreturn\u001b[0m \u001b[0mself\u001b[0m\u001b[0;34m.\u001b[0m\u001b[0m_legacy_call\u001b[0m\u001b[0;34m(\u001b[0m\u001b[0minputs\u001b[0m\u001b[0;34m)\u001b[0m\u001b[0;34m\u001b[0m\u001b[0m\n\u001b[1;32m   2714\u001b[0m \u001b[0;34m\u001b[0m\u001b[0m\n\u001b[0;32m-> 2715\u001b[0;31m             \u001b[0;32mreturn\u001b[0m \u001b[0mself\u001b[0m\u001b[0;34m.\u001b[0m\u001b[0m_call\u001b[0m\u001b[0;34m(\u001b[0m\u001b[0minputs\u001b[0m\u001b[0;34m)\u001b[0m\u001b[0;34m\u001b[0m\u001b[0m\n\u001b[0m\u001b[1;32m   2716\u001b[0m         \u001b[0;32melse\u001b[0m\u001b[0;34m:\u001b[0m\u001b[0;34m\u001b[0m\u001b[0m\n\u001b[1;32m   2717\u001b[0m             \u001b[0;32mif\u001b[0m \u001b[0mpy_any\u001b[0m\u001b[0;34m(\u001b[0m\u001b[0mis_tensor\u001b[0m\u001b[0;34m(\u001b[0m\u001b[0mx\u001b[0m\u001b[0;34m)\u001b[0m \u001b[0;32mfor\u001b[0m \u001b[0mx\u001b[0m \u001b[0;32min\u001b[0m \u001b[0minputs\u001b[0m\u001b[0;34m)\u001b[0m\u001b[0;34m:\u001b[0m\u001b[0;34m\u001b[0m\u001b[0m\n",
      "\u001b[0;32m~/anaconda3/lib/python3.6/site-packages/keras/backend/tensorflow_backend.py\u001b[0m in \u001b[0;36m_call\u001b[0;34m(self, inputs)\u001b[0m\n\u001b[1;32m   2673\u001b[0m             \u001b[0mfetched\u001b[0m \u001b[0;34m=\u001b[0m \u001b[0mself\u001b[0m\u001b[0;34m.\u001b[0m\u001b[0m_callable_fn\u001b[0m\u001b[0;34m(\u001b[0m\u001b[0;34m*\u001b[0m\u001b[0marray_vals\u001b[0m\u001b[0;34m,\u001b[0m \u001b[0mrun_metadata\u001b[0m\u001b[0;34m=\u001b[0m\u001b[0mself\u001b[0m\u001b[0;34m.\u001b[0m\u001b[0mrun_metadata\u001b[0m\u001b[0;34m)\u001b[0m\u001b[0;34m\u001b[0m\u001b[0m\n\u001b[1;32m   2674\u001b[0m         \u001b[0;32melse\u001b[0m\u001b[0;34m:\u001b[0m\u001b[0;34m\u001b[0m\u001b[0m\n\u001b[0;32m-> 2675\u001b[0;31m             \u001b[0mfetched\u001b[0m \u001b[0;34m=\u001b[0m \u001b[0mself\u001b[0m\u001b[0;34m.\u001b[0m\u001b[0m_callable_fn\u001b[0m\u001b[0;34m(\u001b[0m\u001b[0;34m*\u001b[0m\u001b[0marray_vals\u001b[0m\u001b[0;34m)\u001b[0m\u001b[0;34m\u001b[0m\u001b[0m\n\u001b[0m\u001b[1;32m   2676\u001b[0m         \u001b[0;32mreturn\u001b[0m \u001b[0mfetched\u001b[0m\u001b[0;34m[\u001b[0m\u001b[0;34m:\u001b[0m\u001b[0mlen\u001b[0m\u001b[0;34m(\u001b[0m\u001b[0mself\u001b[0m\u001b[0;34m.\u001b[0m\u001b[0moutputs\u001b[0m\u001b[0;34m)\u001b[0m\u001b[0;34m]\u001b[0m\u001b[0;34m\u001b[0m\u001b[0m\n\u001b[1;32m   2677\u001b[0m \u001b[0;34m\u001b[0m\u001b[0m\n",
      "\u001b[0;32m~/anaconda3/lib/python3.6/site-packages/tensorflow/python/client/session.py\u001b[0m in \u001b[0;36m__call__\u001b[0;34m(self, *args)\u001b[0m\n\u001b[1;32m   1449\u001b[0m         \u001b[0;32mif\u001b[0m \u001b[0mself\u001b[0m\u001b[0;34m.\u001b[0m\u001b[0m_session\u001b[0m\u001b[0;34m.\u001b[0m\u001b[0m_created_with_new_api\u001b[0m\u001b[0;34m:\u001b[0m\u001b[0;34m\u001b[0m\u001b[0m\n\u001b[1;32m   1450\u001b[0m           return tf_session.TF_SessionRunCallable(\n\u001b[0;32m-> 1451\u001b[0;31m               self._session._session, self._handle, args, status, None)\n\u001b[0m\u001b[1;32m   1452\u001b[0m         \u001b[0;32melse\u001b[0m\u001b[0;34m:\u001b[0m\u001b[0;34m\u001b[0m\u001b[0m\n\u001b[1;32m   1453\u001b[0m           return tf_session.TF_DeprecatedSessionRunCallable(\n",
      "\u001b[0;31mKeyboardInterrupt\u001b[0m: "
     ]
    }
   ],
   "source": [
    "# from pdb import set_trace as trace\n",
    "# trace()\n",
    "X_train, Y_train = shuffle(X_train, Y_train)\n",
    "model_checkpoint = ModelCheckpoint('Alexnet_brat.hdf5', monitor='loss',verbose=1, save_best_only=True)\n",
    "model.fit(X_train,Y_train,batch_size=32,epochs=50,verbose=1,validation_split=0.2,shuffle=True, callbacks=[model_checkpoint])"
   ]
  },
  {
   "cell_type": "code",
   "execution_count": 41,
   "metadata": {},
   "outputs": [
    {
     "data": {
      "text/plain": [
       "<matplotlib.image.AxesImage at 0x7f874facd048>"
      ]
     },
     "execution_count": 41,
     "metadata": {},
     "output_type": "execute_result"
    },
    {
     "data": {
      "image/png": "[encoded data removed]",
      "text/plain": [
       "<Figure size 432x288 with 1 Axes>"
      ]
     },
     "metadata": {},
     "output_type": "display_data"
    }
   ],
   "source": [
    "plt.imshow(X_train[340])"
   ]
  },
  {
   "cell_type": "code",
   "execution_count": 14,
   "metadata": {},
   "outputs": [
    {
     "data": {
      "text/plain": [
       "array([1, 0], dtype=uint16)"
      ]
     },
     "execution_count": 14,
     "metadata": {},
     "output_type": "execute_result"
    }
   ],
   "source": [
    "Y_train[13699]"
   ]
  },
  {
   "cell_type": "code",
   "execution_count": 3,
   "metadata": {},
   "outputs": [],
   "source": [
    "from PIL import Image\n",
    "def find_test_images(path_dir,num):\n",
    "    X_test=np.zeros((num,240,240),dtype=np.uint16)\n",
    "    Y_test=np.zeros((num,2),dtype=np.uint16)\n",
    "    j=0\n",
    "    k=0\n",
    "    l=0\n",
    "    for item in os.listdir(path_dir):\n",
    "        item2=os.path.join(path_dir,item)\n",
    "        for item3 in os.listdir(item2):\n",
    "            item5=os.path.join(item2,item3)\n",
    "            if os.path.isfile(item5) and item5.endswith('.jpg'):\n",
    "                image = Image.open(item5).convert('L')\n",
    "                image = image.resize((240,240),Image.ANTIALIAS)\n",
    "                X_test[j]=image\n",
    "                if item == 'abnormalsJPG':\n",
    "                    Y_test[j][1]=1\n",
    "                    k+=1\n",
    "                elif item == 'normalsJPG':\n",
    "                    Y_test[j][0]=1\n",
    "                    l+=1\n",
    "                j+=1\n",
    "        print(item)\n",
    "        print(k)\n",
    "        print(l)\n",
    "    return X_test,Y_test"
   ]
  },
  {
   "cell_type": "code",
   "execution_count": 52,
   "metadata": {},
   "outputs": [
    {
     "name": "stdout",
     "output_type": "stream",
     "text": [
      "abnormalsJPG\n",
      "412\n",
      "0\n",
      "normalsJPG\n",
      "412\n",
      "530\n"
     ]
    }
   ],
   "source": [
    "test_path=\"/media/pushpendra/DATA/4th sem/AML/assignment1/normalsVsAbnormalsV2\"\n",
    "X_test,Y_test = find_test_images(test_path,942)"
   ]
  },
  {
   "cell_type": "code",
   "execution_count": 47,
   "metadata": {},
   "outputs": [
    {
     "data": {
      "text/plain": [
       "<matplotlib.image.AxesImage at 0x7f06f81c1a58>"
      ]
     },
     "execution_count": 47,
     "metadata": {},
     "output_type": "execute_result"
    },
    {
     "data": {
      "image/png": "[encoded data removed]",
      "text/plain": [
       "<Figure size 432x288 with 1 Axes>"
      ]
     },
     "metadata": {},
     "output_type": "display_data"
    }
   ],
   "source": [
    "plt.imshow(X1_test[2].reshape(240,240))"
   ]
  },
  {
   "cell_type": "code",
   "execution_count": 53,
   "metadata": {},
   "outputs": [],
   "source": [
    "X1_test=X_test/maxi\n",
    "shape=X1_test.shape\n",
    "X1_test=X1_test.reshape(shape[0],shape[1],shape[2],1)"
   ]
  },
  {
   "cell_type": "code",
   "execution_count": 63,
   "metadata": {},
   "outputs": [
    {
     "name": "stdout",
     "output_type": "stream",
     "text": [
      "942/942 [==============================] - 33s 35ms/step\n"
     ]
    }
   ],
   "source": [
    "model.load_weights(\"Alexnet_brat.hdf5\")\n",
    "results = model.predict(X1_test,verbose=1)"
   ]
  },
  {
   "cell_type": "code",
   "execution_count": 26,
   "metadata": {},
   "outputs": [],
   "source": [
    "shape=X_test.shape\n",
    "X_test=X_test.reshape(shape[0],shape[1],shape[2],1)"
   ]
  },
  {
   "cell_type": "code",
   "execution_count": 64,
   "metadata": {},
   "outputs": [
    {
     "name": "stdout",
     "output_type": "stream",
     "text": [
      "942/942 [==============================] - 32s 34ms/step\n"
     ]
    }
   ],
   "source": [
    "score, acc = model.evaluate(X1_test, Y_test,\n",
    "                            batch_size=32)"
   ]
  },
  {
   "cell_type": "code",
   "execution_count": 65,
   "metadata": {},
   "outputs": [
    {
     "data": {
      "text/plain": [
       "(5.219267451220178, 0.43736730360934184)"
      ]
     },
     "execution_count": 65,
     "metadata": {},
     "output_type": "execute_result"
    }
   ],
   "source": [
    "score, acc"
   ]
  },
  {
   "cell_type": "code",
   "execution_count": 56,
   "metadata": {},
   "outputs": [
    {
     "data": {
      "text/plain": [
       "(1.9171578449052769, 0.5626326963906582)"
      ]
     },
     "execution_count": 56,
     "metadata": {},
     "output_type": "execute_result"
    }
   ],
   "source": [
    "score, acc"
   ]
  },
  {
   "cell_type": "code",
   "execution_count": 25,
   "metadata": {},
   "outputs": [
    {
     "data": {
      "text/plain": [
       "(7.0757246872137305, 0.43630573248407645)"
      ]
     },
     "execution_count": 25,
     "metadata": {},
     "output_type": "execute_result"
    }
   ],
   "source": [
    "score, acc"
   ]
  },
  {
   "cell_type": "code",
   "execution_count": 54,
   "metadata": {},
   "outputs": [
    {
     "data": {
      "text/plain": [
       "(7.5278216987658455, 0.5169851381307954)"
      ]
     },
     "execution_count": 54,
     "metadata": {},
     "output_type": "execute_result"
    }
   ],
   "source": [
    "score, acc"
   ]
  },
  {
   "cell_type": "code",
   "execution_count": 51,
   "metadata": {},
   "outputs": [
    {
     "data": {
      "text/plain": [
       "(7.275505075788802, 0.5477707006369427)"
      ]
     },
     "execution_count": 51,
     "metadata": {},
     "output_type": "execute_result"
    }
   ],
   "source": [
    "score,acc"
   ]
  },
  {
   "cell_type": "code",
   "execution_count": 82,
   "metadata": {},
   "outputs": [
    {
     "data": {
      "text/plain": [
       "(1.2922971810504889, 0.564755838641189)"
      ]
     },
     "execution_count": 82,
     "metadata": {},
     "output_type": "execute_result"
    }
   ],
   "source": [
    "score,acc"
   ]
  },
  {
   "cell_type": "code",
   "execution_count": 41,
   "metadata": {},
   "outputs": [
    {
     "data": {
      "text/plain": [
       "(4.203026542663574, 0.64)"
      ]
     },
     "execution_count": 41,
     "metadata": {},
     "output_type": "execute_result"
    }
   ],
   "source": [
    "score, acc"
   ]
  },
  {
   "cell_type": "code",
   "execution_count": 58,
   "metadata": {},
   "outputs": [
    {
     "name": "stdout",
     "output_type": "stream",
     "text": [
      "942/942 [==============================] - 32s 34ms/step\n"
     ]
    }
   ],
   "source": [
    "results = model.predict(X1_test,verbose=1)"
   ]
  },
  {
   "cell_type": "code",
   "execution_count": 42,
   "metadata": {},
   "outputs": [
    {
     "data": {
      "text/plain": [
       "array([[9.99997973e-01, 1.97380427e-06],\n",
       "       [9.99984384e-01, 1.56149745e-05],\n",
       "       [9.97331500e-01, 2.66849063e-03],\n",
       "       [1.00000000e+00, 3.82436582e-11],\n",
       "       [9.99999046e-01, 9.06403613e-07],\n",
       "       [9.91952002e-01, 8.04791693e-03],\n",
       "       [9.99999762e-01, 2.46044209e-07],\n",
       "       [1.00000000e+00, 3.58943879e-08],\n",
       "       [9.57459688e-01, 4.25402895e-02],\n",
       "       [9.99878407e-01, 1.21552890e-04],\n",
       "       [9.99999762e-01, 2.70984401e-07],\n",
       "       [9.73105788e-01, 2.68942025e-02],\n",
       "       [9.99898314e-01, 1.01668025e-04],\n",
       "       [9.99936461e-01, 6.35697652e-05],\n",
       "       [1.00000000e+00, 1.80782100e-09],\n",
       "       [9.99993563e-01, 6.41946008e-06],\n",
       "       [9.99999404e-01, 6.44308329e-07],\n",
       "       [1.00000000e+00, 1.76474002e-10],\n",
       "       [9.99998212e-01, 1.84571604e-06],\n",
       "       [2.69951727e-02, 9.73004758e-01],\n",
       "       [9.98845696e-01, 1.15432509e-03],\n",
       "       [9.99984741e-01, 1.52489547e-05],\n",
       "       [9.99999762e-01, 2.36230136e-07],\n",
       "       [9.99995112e-01, 4.89447848e-06],\n",
       "       [1.00000000e+00, 3.18565596e-09],\n",
       "       [9.99998450e-01, 1.59754313e-06],\n",
       "       [2.05194636e-04, 9.99794781e-01],\n",
       "       [9.69873462e-03, 9.90301251e-01],\n",
       "       [9.99361694e-01, 6.38303522e-04],\n",
       "       [9.99999762e-01, 2.46044209e-07],\n",
       "       [9.99439657e-01, 5.60274755e-04],\n",
       "       [9.99987245e-01, 1.28042411e-05],\n",
       "       [9.72818851e-01, 2.71812081e-02],\n",
       "       [9.99236703e-01, 7.63330550e-04],\n",
       "       [1.00000000e+00, 8.62718490e-12],\n",
       "       [9.99987006e-01, 1.30368344e-05],\n",
       "       [1.00000000e+00, 3.22654403e-11],\n",
       "       [1.00000000e+00, 3.74895706e-08],\n",
       "       [9.99989986e-01, 9.96043218e-06],\n",
       "       [9.99999642e-01, 3.50722985e-07],\n",
       "       [1.00000000e+00, 7.80263676e-09],\n",
       "       [1.00000000e+00, 8.55948912e-09],\n",
       "       [8.49868834e-01, 1.50131226e-01],\n",
       "       [9.99976993e-01, 2.29840080e-05],\n",
       "       [1.42260762e-02, 9.85773921e-01],\n",
       "       [9.42592323e-01, 5.74076846e-02],\n",
       "       [1.00000000e+00, 2.00571826e-09],\n",
       "       [9.99148846e-01, 8.51181510e-04],\n",
       "       [6.32560670e-01, 3.67439300e-01],\n",
       "       [2.09028439e-09, 1.00000000e+00],\n",
       "       [9.98312116e-01, 1.68783253e-03],\n",
       "       [1.00000000e+00, 4.00465121e-12],\n",
       "       [1.00000000e+00, 3.29324588e-11],\n",
       "       [1.06876278e-05, 9.99989271e-01],\n",
       "       [1.00000000e+00, 6.51548981e-10],\n",
       "       [2.23812880e-03, 9.97761846e-01],\n",
       "       [4.71807659e-01, 5.28192341e-01],\n",
       "       [7.81659722e-01, 2.18340293e-01],\n",
       "       [5.47721868e-07, 9.99999404e-01],\n",
       "       [4.87592399e-01, 5.12407660e-01],\n",
       "       [2.69483102e-10, 1.00000000e+00],\n",
       "       [1.00000000e+00, 5.75715582e-13],\n",
       "       [5.33081766e-04, 9.99466956e-01],\n",
       "       [2.84952461e-03, 9.97150481e-01],\n",
       "       [1.00000000e+00, 1.61510319e-11],\n",
       "       [9.99997020e-01, 2.92617983e-06],\n",
       "       [1.00000000e+00, 8.89522900e-10],\n",
       "       [1.00000000e+00, 3.19845206e-10],\n",
       "       [9.99999881e-01, 1.04011924e-07],\n",
       "       [9.99876976e-01, 1.22980855e-04],\n",
       "       [1.91257184e-03, 9.98087347e-01],\n",
       "       [9.92334306e-01, 7.66570074e-03],\n",
       "       [1.00000000e+00, 2.29593962e-08],\n",
       "       [1.00000000e+00, 1.10357314e-14],\n",
       "       [1.00000000e+00, 5.56721993e-08],\n",
       "       [1.00000000e+00, 1.76089747e-13],\n",
       "       [1.00000000e+00, 5.02298203e-10],\n",
       "       [2.60434870e-04, 9.99739587e-01],\n",
       "       [1.00000000e+00, 1.70931616e-10],\n",
       "       [4.56647612e-02, 9.54335272e-01],\n",
       "       [5.17158369e-05, 9.99948263e-01],\n",
       "       [1.84122100e-01, 8.15877855e-01],\n",
       "       [9.90795314e-01, 9.20466799e-03],\n",
       "       [6.45450354e-01, 3.54549617e-01],\n",
       "       [9.99883175e-01, 1.16786076e-04],\n",
       "       [6.64888262e-07, 9.99999285e-01],\n",
       "       [1.00000000e+00, 9.49139652e-14],\n",
       "       [7.22955525e-01, 2.77044475e-01],\n",
       "       [9.92334306e-01, 7.66570074e-03],\n",
       "       [1.00000000e+00, 4.99338147e-13],\n",
       "       [1.00000000e+00, 3.21201787e-10],\n",
       "       [1.00000000e+00, 2.33237762e-10],\n",
       "       [4.14289683e-02, 9.58570957e-01],\n",
       "       [5.39846098e-07, 9.99999404e-01],\n",
       "       [5.07804652e-05, 9.99949217e-01],\n",
       "       [4.71807659e-01, 5.28192341e-01],\n",
       "       [9.99999166e-01, 8.05689410e-07],\n",
       "       [1.00000000e+00, 1.04415088e-10],\n",
       "       [9.88443434e-01, 1.15566030e-02],\n",
       "       [5.93527511e-05, 9.99940634e-01]], dtype=float32)"
      ]
     },
     "execution_count": 42,
     "metadata": {},
     "output_type": "execute_result"
    }
   ],
   "source": [
    "results"
   ]
  },
  {
   "cell_type": "code",
   "execution_count": 66,
   "metadata": {},
   "outputs": [
    {
     "data": {
      "text/plain": [
       "'Precision: [0.43736730360934184, 0.43736730360934184]\\nRecall: [0.43736730360934184, 0.43736730360934184]\\nF1-score: [0.43736730360934184, 0.43736730360934184]\\nDistribution: [942, 942]'"
      ]
     },
     "execution_count": 66,
     "metadata": {},
     "output_type": "execute_result"
    }
   ],
   "source": [
    "from sklearn.metrics import confusion_matrix, precision_recall_fscore_support\n",
    "visualize(X_test[0], 0,Y_test,results)"
   ]
  },
  {
   "cell_type": "code",
   "execution_count": 21,
   "metadata": {},
   "outputs": [],
   "source": [
    "def visualize(im, tiles, actual_target, predicted_target):\n",
    "    \n",
    "    precision, recall, fscore, support = precision_recall_fscore_support(actual_target.reshape((-1,1)), np.round(predicted_target.reshape((-1,1)) + 0.3))\n",
    "    t = ('Precision: ' + str(list(precision)) + '\\n' + 'Recall: ' + str(list(recall)) + '\\n' + 'F1-score: ' + str(list(fscore)) + '\\n' + 'Distribution: ' + str(list(support)))\n",
    "       \n",
    "#     tiles = tiles[:,:,:,0]\n",
    "#     actual_target = actual_target[:,:,:,0]\n",
    "#     predicted_target = predicted_target[:,:,:,0]\n",
    "\n",
    "#     r,c = np.shape(im)\n",
    "#     actual_target_im = np.zeros(np.shape(im))\n",
    "#     predicted_target_im = np.zeros(np.shape(im))\n",
    "\n",
    "#     # stich sub-images back to original image\n",
    "#     cnt = 0 \n",
    "#     for i in range(0,r,img_h):\n",
    "#         for j in range(0,c,img_w):\n",
    "#             x = actual_target_im[i:i+img_h,j:j+img_h]\n",
    "#             if(x.shape[0]==img_h and x.shape[1]==img_w):\n",
    "#                 actual_target_im[i:i+img_h,j:j+img_w] = actual_target[cnt]\n",
    "#                 predicted_target_im[i:i+img_h,j:j+img_w] =  predicted_target[cnt] #tiles[cnt] + 200*\n",
    "#                 cnt+=1\n",
    "    \n",
    "#     plt.figure(1,(15,9))\n",
    "#     plt.subplot(1, 4, 1)\n",
    "#     plt.title(\"Image\")\n",
    "#     im = plt.imshow(im, cmap = \"gray\",aspect = \"auto\") # orientation='horizontal',fraction=0.046, pad=0.04\n",
    "#     # plt.colorbar(im)\n",
    "#     plt.axis('off')\n",
    "#     plt.subplot(1, 4, 2)\n",
    "#     plt.title(\"Ground Truth\")\n",
    "#     # RdYlGn, seismic, tab10, plasma\n",
    "#     im = plt.imshow(actual_target_im, cmap = \"magma\",aspect = \"auto\",vmin=0, vmax=1)\n",
    "#     # plt.colorbar(im)\n",
    "#     plt.axis('off')\n",
    "#     plt.subplot(1, 4, 3)\n",
    "#     plt.title(\"Prediction\")\n",
    "#     ax = plt.imshow(predicted_target_im, cmap = \"magma\",aspect = \"auto\",vmin=0, vmax=1)\n",
    "#     plt.colorbar(ax)\n",
    "#     plt.axis('off')\n",
    "#     plt.subplot(1, 4, 4)\n",
    "#     plt.axis('off')\n",
    "#     plt.text(0.5, 0.5, t, ha = 'center',va='top',wrap=True)\n",
    "#     global epoch_frames\n",
    "#     epoch_frames += 1\n",
    "#     plt.suptitle('epoch: ' + str(epoch_frames))\n",
    "#     plt.savefig(home + \"/experiment10b/output/copy_epoch_frames/frame\"+str(epoch_frames)+ '.png')\n",
    "#     # plt.show(block=False)\n",
    "#     plt.close()\n",
    "    return t"
   ]
  },
  {
   "cell_type": "code",
   "execution_count": null,
   "metadata": {},
   "outputs": [],
   "source": []
  }
 ],
 "metadata": {
  "kernelspec": {
   "display_name": "Python 3",
   "language": "python",
   "name": "python3"
  },
  "language_info": {
   "codemirror_mode": {
    "name": "ipython",
    "version": 3
   },
   "file_extension": ".py",
   "mimetype": "text/x-python",
   "name": "python",
   "nbconvert_exporter": "python",
   "pygments_lexer": "ipython3",
   "version": "3.6.5"
  }
 },
 "nbformat": 4,
 "nbformat_minor": 2
}
